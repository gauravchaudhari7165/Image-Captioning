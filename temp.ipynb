{
 "cells": [
  {
   "cell_type": "code",
   "execution_count": 2,
   "metadata": {},
   "outputs": [
    {
     "name": "stderr",
     "output_type": "stream",
     "text": [
      "2023-12-15 10:35:33.019839: I external/local_tsl/tsl/cuda/cudart_stub.cc:31] Could not find cuda drivers on your machine, GPU will not be used.\n",
      "2023-12-15 10:35:33.051948: E external/local_xla/xla/stream_executor/cuda/cuda_dnn.cc:9261] Unable to register cuDNN factory: Attempting to register factory for plugin cuDNN when one has already been registered\n",
      "2023-12-15 10:35:33.051986: E external/local_xla/xla/stream_executor/cuda/cuda_fft.cc:607] Unable to register cuFFT factory: Attempting to register factory for plugin cuFFT when one has already been registered\n",
      "2023-12-15 10:35:33.053270: E external/local_xla/xla/stream_executor/cuda/cuda_blas.cc:1515] Unable to register cuBLAS factory: Attempting to register factory for plugin cuBLAS when one has already been registered\n",
      "2023-12-15 10:35:33.059191: I external/local_tsl/tsl/cuda/cudart_stub.cc:31] Could not find cuda drivers on your machine, GPU will not be used.\n",
      "2023-12-15 10:35:33.060034: I tensorflow/core/platform/cpu_feature_guard.cc:182] This TensorFlow binary is optimized to use available CPU instructions in performance-critical operations.\n",
      "To enable the following instructions: AVX2 FMA, in other operations, rebuild TensorFlow with the appropriate compiler flags.\n",
      "2023-12-15 10:35:34.512766: W tensorflow/compiler/tf2tensorrt/utils/py_utils.cc:38] TF-TRT Warning: Could not find TensorRT\n"
     ]
    },
    {
     "name": "stdout",
     "output_type": "stream",
     "text": [
      "Module imports complete\n"
     ]
    }
   ],
   "source": [
    "import tensorflow as tf\n",
    "from tensorflow.keras.preprocessing.image import ImageDataGenerator\n",
    "from tensorflow.keras.applications.efficientnet_v2 import EfficientNetV2B0\n",
    "from tensorflow.keras.layers import Input, LSTM, Dense, GlobalAveragePooling2D, Embedding\n",
    "from tensorflow.keras.models import Model\n",
    "from tensorflow.keras.utils import to_categorical\n",
    "from tensorflow.keras.preprocessing.text import Tokenizer\n",
    "from tensorflow.keras.preprocessing.sequence import pad_sequences\n",
    "from tensorflow.keras.callbacks import ModelCheckpoint, ReduceLROnPlateau\n",
    "import numpy as np\n",
    "import os\n",
    "import pandas as pd\n",
    "import cv2\n",
    "\n",
    "print(\"Module imports complete\")"
   ]
  },
  {
   "cell_type": "code",
   "execution_count": 3,
   "metadata": {},
   "outputs": [
    {
     "name": "stdout",
     "output_type": "stream",
     "text": [
      "Data preprocessed complete\n"
     ]
    }
   ],
   "source": [
    "# Load the Flickr8k dataset\n",
    "data_dir = 'Dataset/'\n",
    "image_dir = os.path.join(data_dir, 'Images/')\n",
    "caption_file = os.path.join(data_dir, 'captions.txt')\n",
    "df = pd.read_csv(caption_file)\n",
    "# Define the maximum length of the captions\n",
    "max_length = 50\n",
    "\n",
    "# Define the tokenizer for the captions\n",
    "tokenizer = Tokenizer()\n",
    "\n",
    "# Load the captions and preprocess them\n",
    "with open(caption_file, 'r') as f:\n",
    "    captions = f.readlines()\n",
    "\n",
    "captions = df['caption'].tolist()\n",
    "tokenizer.fit_on_texts(captions)\n",
    "\n",
    "\n",
    "# Tokenize and pad sequences\n",
    "sequences = tokenizer.texts_to_sequences(captions)\n",
    "padded_sequences = pad_sequences(sequences, maxlen=max_length, padding='post')\n",
    "\n",
    "\n",
    "# Define the vocabulary size\n",
    "vocab_size = len(tokenizer.word_index) + 1\n",
    "\n",
    "print(\"Data preprocessed complete\")"
   ]
  },
  {
   "cell_type": "code",
   "execution_count": 4,
   "metadata": {},
   "outputs": [
    {
     "name": "stdout",
     "output_type": "stream",
     "text": [
      "Image preprocessing complete\n",
      "Image Shape: (32, 224, 224, 3)\n",
      "Caption Type: <class 'numpy.ndarray'>\n",
      "First Caption: [  1   9   2 212   4   1 220 256 409   3 246   0   0   0   0   0   0   0\n",
      "   0   0   0]\n",
      "Done\n"
     ]
    }
   ],
   "source": [
    "\n",
    "\n",
    "train_datagen = ImageDataGenerator(rescale=1. / 255)\n",
    "valid_datagen = ImageDataGenerator(rescale=1. / 255)\n",
    "\n",
    "# Flow from dataframe\n",
    "# Flow from dataframe with custom preprocessing function\n",
    "def preprocess_caption(caption):\n",
    "    sequence = tokenizer.texts_to_sequences([caption])[0]\n",
    "    return sequence\n",
    "\n",
    "class CaptionDataGenerator(tf.keras.utils.Sequence):\n",
    "    def __init__(self, dataframe, directory, tokenizer, target_size, batch_size=32, shuffle=False):\n",
    "        self.dataframe = dataframe\n",
    "        self.directory = directory\n",
    "        self.tokenizer = tokenizer\n",
    "        self.target_size = target_size\n",
    "        self.batch_size = batch_size\n",
    "        self.shuffle = shuffle\n",
    "        self.indexes = np.arange(len(self.dataframe))\n",
    "        self.on_epoch_end()\n",
    "\n",
    "    def __len__(self):\n",
    "        return int(np.ceil(len(self.dataframe) / self.batch_size))\n",
    "\n",
    "    def __getitem__(self, index):\n",
    "        start = index * self.batch_size\n",
    "        end = (index + 1) * self.batch_size\n",
    "        batch_indexes = self.indexes[start:end]\n",
    "\n",
    "        batch_images = []\n",
    "        batch_captions = []\n",
    "\n",
    "        max_caption_length = max([len(self.tokenizer.texts_to_sequences([self.dataframe['caption'].iloc[i]])[0]) for i in batch_indexes])\n",
    "\n",
    "        for i in batch_indexes:\n",
    "            image_path = os.path.join(self.directory, self.dataframe['image'].iloc[i])\n",
    "            image = cv2.imread(image_path)\n",
    "            image = cv2.resize(image, self.target_size)\n",
    "            image = image / 255.0  # Normalize the image\n",
    "            batch_images.append(image)\n",
    "\n",
    "            caption = self.dataframe['caption'].iloc[i]\n",
    "            sequence = self.tokenizer.texts_to_sequences([caption])[0]\n",
    "            padded_sequence = pad_sequences([sequence], maxlen=max_caption_length, padding='post')[0]\n",
    "            batch_captions.append(padded_sequence)\n",
    "\n",
    "        return np.array(batch_images), np.array(batch_captions)\n",
    "\n",
    "\n",
    "    def on_epoch_end(self):\n",
    "        if self.shuffle:\n",
    "            np.random.shuffle(self.indexes)\n",
    "\n",
    "# Create custom generators\n",
    "train_generator = CaptionDataGenerator(df, os.path.join(data_dir, 'Images'), tokenizer, (224, 224), batch_size=32, shuffle=True)\n",
    "valid_generator = CaptionDataGenerator(df, os.path.join(data_dir, 'Images'), tokenizer, (224, 224), batch_size=32, shuffle=False)\n",
    "\n",
    "\n",
    "print(\"Image preprocessing complete\")\n",
    "for batch in train_generator:\n",
    "    images, captions = batch  # Assuming your generator yields images and captions\n",
    "    print(\"Image Shape:\", images.shape)\n",
    "    print(\"Caption Type:\", type(captions))  # captions is a list, not a numpy array\n",
    "    print(\"First Caption:\", captions[0])  # Accessing the first caption in the batch\n",
    "    break  # Print only the first batch\n",
    "\n",
    "print(\"Done\")"
   ]
  },
  {
   "cell_type": "code",
   "execution_count": 5,
   "metadata": {},
   "outputs": [
    {
     "name": "stdout",
     "output_type": "stream",
     "text": [
      "Encoder-decoder model complete\n"
     ]
    }
   ],
   "source": [
    "# Load the EfficientNetV2B0 model\n",
    "image_model = EfficientNetV2B0(weights='imagenet', input_shape=(224, 224, 3), include_top=False)\n",
    "\n",
    "# Freeze the layers of the EfficientNetV2B0 model\n",
    "for layer in image_model.layers:\n",
    "    layer.trainable = False\n",
    "\n",
    "# Build the encoder-decoder model\n",
    "inputs = Input(shape=(224, 224, 3))  # Adjusted input shape\n",
    "\n",
    "x = image_model(inputs, training=False)\n",
    "x = GlobalAveragePooling2D()(x)\n",
    "print(\"Encoder-decoder model complete\")"
   ]
  },
  {
   "cell_type": "code",
   "execution_count": 6,
   "metadata": {},
   "outputs": [
    {
     "name": "stderr",
     "output_type": "stream",
     "text": [
      "2023-12-15 10:35:51.765674: W external/local_tsl/tsl/framework/cpu_allocator_impl.cc:83] Allocation of 2071296000 exceeds 10% of free system memory.\n",
      "2023-12-15 10:35:51.942807: W external/local_tsl/tsl/framework/cpu_allocator_impl.cc:83] Allocation of 2071296000 exceeds 10% of free system memory.\n"
     ]
    },
    {
     "name": "stdout",
     "output_type": "stream",
     "text": [
      "here\n"
     ]
    }
   ],
   "source": [
    "# Reshape the output of GlobalAveragePooling2D to match the LSTM output shape\n",
    "# Reshape the output of GlobalAveragePooling2D to match the LSTM output shape\n",
    "x_reshaped = tf.keras.layers.Reshape((1, -1))(x)\n",
    "\n",
    "\n",
    "\n",
    "# Add an embedding layer for captions\n",
    "embedding_layer = Embedding(input_dim=vocab_size, output_dim=256, input_length=max_length)(padded_sequences)\n",
    "\n",
    "# Use LSTM for caption processing\n",
    "lstm = LSTM(256)(embedding_layer)\n",
    "\n",
    "# Reshape the output of LSTM to match the GlobalAveragePooling2D output shape\n",
    "lstm_reshaped = tf.keras.layers.Reshape((1, -1))(lstm)\n",
    "\n",
    "# Concatenate image and caption features\n",
    "merged = tf.keras.layers.concatenate([x_reshaped, lstm_reshaped], axis=-1)\n",
    "\n",
    "outputs = Dense(vocab_size, activation='softmax')(merged)\n",
    "\n",
    "model = Model(inputs=inputs, outputs=outputs)  # Added inputs parameter\n",
    "\n",
    "print(\"here\")\n"
   ]
  },
  {
   "cell_type": "code",
   "execution_count": 11,
   "metadata": {},
   "outputs": [
    {
     "name": "stdout",
     "output_type": "stream",
     "text": [
      "Model compiled\n",
      "Caption Data Type: <class 'numpy.ndarray'>\n"
     ]
    }
   ],
   "source": [
    "def loss_fn(real, pred):\n",
    "    mask = tf.math.logical_not(tf.math.equal(real, 0))\n",
    "    final_loss = tf.keras.losses.sparse_categorical_crossentropy(real, pred)\n",
    "\n",
    "    mask = tf.cast(mask, dtype=final_loss.dtype)\n",
    "    final_loss *= mask\n",
    "\n",
    "    return tf.reduce_sum(final_loss)\n",
    "\n",
    "\n",
    "# Compile the model\n",
    "# model.compile(loss='sparse_categorical_crossentropy', optimizer='adam', metrics=['accuracy'])\n",
    "\n",
    "model.compile(loss=loss_fn, optimizer='adam', metrics=['accuracy'])\n",
    "# Define the callbacks\n",
    "filepath = 'weights.best.hdf5'\n",
    "checkpoint = ModelCheckpoint(filepath, monitor='val_accuracy', verbose=1, save_best_only=True)\n",
    "reduce_lr = ReduceLROnPlateau(monitor='val_loss', factor=0.2, patience=5, min_lr=0.0001)\n",
    "\n",
    "print(\"Model compiled\")\n",
    "print(\"Caption Data Type:\", type(padded_sequences))\n"
   ]
  },
  {
   "cell_type": "code",
   "execution_count": 12,
   "metadata": {},
   "outputs": [
    {
     "name": "stdout",
     "output_type": "stream",
     "text": [
      "Epoch 1/100\n"
     ]
    },
    {
     "ename": "InvalidArgumentError",
     "evalue": "Graph execution error:\n\nDetected at node loss_fn/SparseSoftmaxCrossEntropyWithLogits/assert_equal_1/Assert/Assert defined at (most recent call last):\n  File \"/home/codespace/.python/current/lib/python3.10/runpy.py\", line 196, in _run_module_as_main\n\n  File \"/home/codespace/.python/current/lib/python3.10/runpy.py\", line 86, in _run_code\n\n  File \"/home/codespace/.local/lib/python3.10/site-packages/ipykernel_launcher.py\", line 17, in <module>\n\n  File \"/home/codespace/.local/lib/python3.10/site-packages/traitlets/config/application.py\", line 1077, in launch_instance\n\n  File \"/home/codespace/.local/lib/python3.10/site-packages/ipykernel/kernelapp.py\", line 739, in start\n\n  File \"/home/codespace/.local/lib/python3.10/site-packages/tornado/platform/asyncio.py\", line 205, in start\n\n  File \"/home/codespace/.python/current/lib/python3.10/asyncio/base_events.py\", line 603, in run_forever\n\n  File \"/home/codespace/.python/current/lib/python3.10/asyncio/base_events.py\", line 1909, in _run_once\n\n  File \"/home/codespace/.python/current/lib/python3.10/asyncio/events.py\", line 80, in _run\n\n  File \"/home/codespace/.local/lib/python3.10/site-packages/ipykernel/kernelbase.py\", line 529, in dispatch_queue\n\n  File \"/home/codespace/.local/lib/python3.10/site-packages/ipykernel/kernelbase.py\", line 518, in process_one\n\n  File \"/home/codespace/.local/lib/python3.10/site-packages/ipykernel/kernelbase.py\", line 424, in dispatch_shell\n\n  File \"/home/codespace/.local/lib/python3.10/site-packages/ipykernel/kernelbase.py\", line 766, in execute_request\n\n  File \"/home/codespace/.local/lib/python3.10/site-packages/ipykernel/ipkernel.py\", line 429, in do_execute\n\n  File \"/home/codespace/.local/lib/python3.10/site-packages/ipykernel/zmqshell.py\", line 549, in run_cell\n\n  File \"/home/codespace/.local/lib/python3.10/site-packages/IPython/core/interactiveshell.py\", line 3048, in run_cell\n\n  File \"/home/codespace/.local/lib/python3.10/site-packages/IPython/core/interactiveshell.py\", line 3103, in _run_cell\n\n  File \"/home/codespace/.local/lib/python3.10/site-packages/IPython/core/async_helpers.py\", line 129, in _pseudo_sync_runner\n\n  File \"/home/codespace/.local/lib/python3.10/site-packages/IPython/core/interactiveshell.py\", line 3308, in run_cell_async\n\n  File \"/home/codespace/.local/lib/python3.10/site-packages/IPython/core/interactiveshell.py\", line 3490, in run_ast_nodes\n\n  File \"/home/codespace/.local/lib/python3.10/site-packages/IPython/core/interactiveshell.py\", line 3550, in run_code\n\n  File \"/tmp/ipykernel_50712/847388464.py\", line 2, in <module>\n\n  File \"/home/codespace/.python/current/lib/python3.10/site-packages/keras/src/utils/traceback_utils.py\", line 65, in error_handler\n\n  File \"/home/codespace/.python/current/lib/python3.10/site-packages/keras/src/engine/training.py\", line 1807, in fit\n\n  File \"/home/codespace/.python/current/lib/python3.10/site-packages/keras/src/engine/training.py\", line 1401, in train_function\n\n  File \"/home/codespace/.python/current/lib/python3.10/site-packages/keras/src/engine/training.py\", line 1384, in step_function\n\n  File \"/home/codespace/.python/current/lib/python3.10/site-packages/keras/src/engine/training.py\", line 1373, in run_step\n\n  File \"/home/codespace/.python/current/lib/python3.10/site-packages/keras/src/engine/training.py\", line 1151, in train_step\n\n  File \"/home/codespace/.python/current/lib/python3.10/site-packages/keras/src/engine/training.py\", line 1209, in compute_loss\n\n  File \"/home/codespace/.python/current/lib/python3.10/site-packages/keras/src/engine/compile_utils.py\", line 277, in __call__\n\n  File \"/home/codespace/.python/current/lib/python3.10/site-packages/keras/src/losses.py\", line 143, in __call__\n\n  File \"/home/codespace/.python/current/lib/python3.10/site-packages/keras/src/losses.py\", line 270, in call\n\n  File \"/tmp/ipykernel_50712/4044029749.py\", line 3, in loss_fn\n\n  File \"/home/codespace/.python/current/lib/python3.10/site-packages/keras/src/losses.py\", line 2454, in sparse_categorical_crossentropy\n\n  File \"/home/codespace/.python/current/lib/python3.10/site-packages/keras/src/backend.py\", line 5775, in sparse_categorical_crossentropy\n\nassertion failed: [Condition x == y did not hold element-wise:] [x (loss_fn/SparseSoftmaxCrossEntropyWithLogits/Shape_1:0) = ] [32 18] [y (loss_fn/SparseSoftmaxCrossEntropyWithLogits/strided_slice:0) = ] [40455 1]\n\t [[{{node loss_fn/SparseSoftmaxCrossEntropyWithLogits/assert_equal_1/Assert/Assert}}]] [Op:__inference_train_function_29628]",
     "output_type": "error",
     "traceback": [
      "\u001b[0;31m---------------------------------------------------------------------------\u001b[0m",
      "\u001b[0;31mInvalidArgumentError\u001b[0m                      Traceback (most recent call last)",
      "Cell \u001b[0;32mIn[12], line 2\u001b[0m\n\u001b[1;32m      1\u001b[0m \u001b[38;5;66;03m# Train the model\u001b[39;00m\n\u001b[0;32m----> 2\u001b[0m \u001b[43mmodel\u001b[49m\u001b[38;5;241;43m.\u001b[39;49m\u001b[43mfit\u001b[49m\u001b[43m(\u001b[49m\u001b[43mtrain_generator\u001b[49m\u001b[43m,\u001b[49m\u001b[43m \u001b[49m\u001b[43mepochs\u001b[49m\u001b[38;5;241;43m=\u001b[39;49m\u001b[38;5;241;43m100\u001b[39;49m\u001b[43m,\u001b[49m\u001b[43m \u001b[49m\u001b[43mvalidation_data\u001b[49m\u001b[38;5;241;43m=\u001b[39;49m\u001b[43mvalid_generator\u001b[49m\u001b[43m,\u001b[49m\u001b[43m \u001b[49m\u001b[43mvalidation_steps\u001b[49m\u001b[38;5;241;43m=\u001b[39;49m\u001b[38;5;241;43m20\u001b[39;49m\u001b[43m,\u001b[49m\u001b[43m \u001b[49m\u001b[43mcallbacks\u001b[49m\u001b[38;5;241;43m=\u001b[39;49m\u001b[43m[\u001b[49m\u001b[43mcheckpoint\u001b[49m\u001b[43m,\u001b[49m\u001b[43m \u001b[49m\u001b[43mreduce_lr\u001b[49m\u001b[43m]\u001b[49m\u001b[43m)\u001b[49m\n\u001b[1;32m      3\u001b[0m \u001b[38;5;28mprint\u001b[39m(\u001b[38;5;124m\"\u001b[39m\u001b[38;5;124mModel trained\u001b[39m\u001b[38;5;124m\"\u001b[39m)\n",
      "File \u001b[0;32m~/.python/current/lib/python3.10/site-packages/keras/src/utils/traceback_utils.py:70\u001b[0m, in \u001b[0;36mfilter_traceback.<locals>.error_handler\u001b[0;34m(*args, **kwargs)\u001b[0m\n\u001b[1;32m     67\u001b[0m     filtered_tb \u001b[38;5;241m=\u001b[39m _process_traceback_frames(e\u001b[38;5;241m.\u001b[39m__traceback__)\n\u001b[1;32m     68\u001b[0m     \u001b[38;5;66;03m# To get the full stack trace, call:\u001b[39;00m\n\u001b[1;32m     69\u001b[0m     \u001b[38;5;66;03m# `tf.debugging.disable_traceback_filtering()`\u001b[39;00m\n\u001b[0;32m---> 70\u001b[0m     \u001b[38;5;28;01mraise\u001b[39;00m e\u001b[38;5;241m.\u001b[39mwith_traceback(filtered_tb) \u001b[38;5;28;01mfrom\u001b[39;00m \u001b[38;5;28;01mNone\u001b[39;00m\n\u001b[1;32m     71\u001b[0m \u001b[38;5;28;01mfinally\u001b[39;00m:\n\u001b[1;32m     72\u001b[0m     \u001b[38;5;28;01mdel\u001b[39;00m filtered_tb\n",
      "File \u001b[0;32m~/.python/current/lib/python3.10/site-packages/tensorflow/python/eager/execute.py:53\u001b[0m, in \u001b[0;36mquick_execute\u001b[0;34m(op_name, num_outputs, inputs, attrs, ctx, name)\u001b[0m\n\u001b[1;32m     51\u001b[0m \u001b[38;5;28;01mtry\u001b[39;00m:\n\u001b[1;32m     52\u001b[0m   ctx\u001b[38;5;241m.\u001b[39mensure_initialized()\n\u001b[0;32m---> 53\u001b[0m   tensors \u001b[38;5;241m=\u001b[39m pywrap_tfe\u001b[38;5;241m.\u001b[39mTFE_Py_Execute(ctx\u001b[38;5;241m.\u001b[39m_handle, device_name, op_name,\n\u001b[1;32m     54\u001b[0m                                       inputs, attrs, num_outputs)\n\u001b[1;32m     55\u001b[0m \u001b[38;5;28;01mexcept\u001b[39;00m core\u001b[38;5;241m.\u001b[39m_NotOkStatusException \u001b[38;5;28;01mas\u001b[39;00m e:\n\u001b[1;32m     56\u001b[0m   \u001b[38;5;28;01mif\u001b[39;00m name \u001b[38;5;129;01mis\u001b[39;00m \u001b[38;5;129;01mnot\u001b[39;00m \u001b[38;5;28;01mNone\u001b[39;00m:\n",
      "\u001b[0;31mInvalidArgumentError\u001b[0m: Graph execution error:\n\nDetected at node loss_fn/SparseSoftmaxCrossEntropyWithLogits/assert_equal_1/Assert/Assert defined at (most recent call last):\n  File \"/home/codespace/.python/current/lib/python3.10/runpy.py\", line 196, in _run_module_as_main\n\n  File \"/home/codespace/.python/current/lib/python3.10/runpy.py\", line 86, in _run_code\n\n  File \"/home/codespace/.local/lib/python3.10/site-packages/ipykernel_launcher.py\", line 17, in <module>\n\n  File \"/home/codespace/.local/lib/python3.10/site-packages/traitlets/config/application.py\", line 1077, in launch_instance\n\n  File \"/home/codespace/.local/lib/python3.10/site-packages/ipykernel/kernelapp.py\", line 739, in start\n\n  File \"/home/codespace/.local/lib/python3.10/site-packages/tornado/platform/asyncio.py\", line 205, in start\n\n  File \"/home/codespace/.python/current/lib/python3.10/asyncio/base_events.py\", line 603, in run_forever\n\n  File \"/home/codespace/.python/current/lib/python3.10/asyncio/base_events.py\", line 1909, in _run_once\n\n  File \"/home/codespace/.python/current/lib/python3.10/asyncio/events.py\", line 80, in _run\n\n  File \"/home/codespace/.local/lib/python3.10/site-packages/ipykernel/kernelbase.py\", line 529, in dispatch_queue\n\n  File \"/home/codespace/.local/lib/python3.10/site-packages/ipykernel/kernelbase.py\", line 518, in process_one\n\n  File \"/home/codespace/.local/lib/python3.10/site-packages/ipykernel/kernelbase.py\", line 424, in dispatch_shell\n\n  File \"/home/codespace/.local/lib/python3.10/site-packages/ipykernel/kernelbase.py\", line 766, in execute_request\n\n  File \"/home/codespace/.local/lib/python3.10/site-packages/ipykernel/ipkernel.py\", line 429, in do_execute\n\n  File \"/home/codespace/.local/lib/python3.10/site-packages/ipykernel/zmqshell.py\", line 549, in run_cell\n\n  File \"/home/codespace/.local/lib/python3.10/site-packages/IPython/core/interactiveshell.py\", line 3048, in run_cell\n\n  File \"/home/codespace/.local/lib/python3.10/site-packages/IPython/core/interactiveshell.py\", line 3103, in _run_cell\n\n  File \"/home/codespace/.local/lib/python3.10/site-packages/IPython/core/async_helpers.py\", line 129, in _pseudo_sync_runner\n\n  File \"/home/codespace/.local/lib/python3.10/site-packages/IPython/core/interactiveshell.py\", line 3308, in run_cell_async\n\n  File \"/home/codespace/.local/lib/python3.10/site-packages/IPython/core/interactiveshell.py\", line 3490, in run_ast_nodes\n\n  File \"/home/codespace/.local/lib/python3.10/site-packages/IPython/core/interactiveshell.py\", line 3550, in run_code\n\n  File \"/tmp/ipykernel_50712/847388464.py\", line 2, in <module>\n\n  File \"/home/codespace/.python/current/lib/python3.10/site-packages/keras/src/utils/traceback_utils.py\", line 65, in error_handler\n\n  File \"/home/codespace/.python/current/lib/python3.10/site-packages/keras/src/engine/training.py\", line 1807, in fit\n\n  File \"/home/codespace/.python/current/lib/python3.10/site-packages/keras/src/engine/training.py\", line 1401, in train_function\n\n  File \"/home/codespace/.python/current/lib/python3.10/site-packages/keras/src/engine/training.py\", line 1384, in step_function\n\n  File \"/home/codespace/.python/current/lib/python3.10/site-packages/keras/src/engine/training.py\", line 1373, in run_step\n\n  File \"/home/codespace/.python/current/lib/python3.10/site-packages/keras/src/engine/training.py\", line 1151, in train_step\n\n  File \"/home/codespace/.python/current/lib/python3.10/site-packages/keras/src/engine/training.py\", line 1209, in compute_loss\n\n  File \"/home/codespace/.python/current/lib/python3.10/site-packages/keras/src/engine/compile_utils.py\", line 277, in __call__\n\n  File \"/home/codespace/.python/current/lib/python3.10/site-packages/keras/src/losses.py\", line 143, in __call__\n\n  File \"/home/codespace/.python/current/lib/python3.10/site-packages/keras/src/losses.py\", line 270, in call\n\n  File \"/tmp/ipykernel_50712/4044029749.py\", line 3, in loss_fn\n\n  File \"/home/codespace/.python/current/lib/python3.10/site-packages/keras/src/losses.py\", line 2454, in sparse_categorical_crossentropy\n\n  File \"/home/codespace/.python/current/lib/python3.10/site-packages/keras/src/backend.py\", line 5775, in sparse_categorical_crossentropy\n\nassertion failed: [Condition x == y did not hold element-wise:] [x (loss_fn/SparseSoftmaxCrossEntropyWithLogits/Shape_1:0) = ] [32 18] [y (loss_fn/SparseSoftmaxCrossEntropyWithLogits/strided_slice:0) = ] [40455 1]\n\t [[{{node loss_fn/SparseSoftmaxCrossEntropyWithLogits/assert_equal_1/Assert/Assert}}]] [Op:__inference_train_function_29628]"
     ]
    }
   ],
   "source": [
    "# Train the model\n",
    "model.fit(train_generator, epochs=100, validation_data=valid_generator, validation_steps=20, callbacks=[checkpoint, reduce_lr])\n",
    "print(\"Model trained\")"
   ]
  },
  {
   "cell_type": "code",
   "execution_count": null,
   "metadata": {},
   "outputs": [],
   "source": [
    "# Save the model\n",
    "model.save('image_captioning_model.h5')\n",
    "\n",
    "print(\"done\")"
   ]
  }
 ],
 "metadata": {
  "kernelspec": {
   "display_name": "Python 3",
   "language": "python",
   "name": "python3"
  },
  "language_info": {
   "codemirror_mode": {
    "name": "ipython",
    "version": 3
   },
   "file_extension": ".py",
   "mimetype": "text/x-python",
   "name": "python",
   "nbconvert_exporter": "python",
   "pygments_lexer": "ipython3",
   "version": "3.10.13"
  }
 },
 "nbformat": 4,
 "nbformat_minor": 2
}
